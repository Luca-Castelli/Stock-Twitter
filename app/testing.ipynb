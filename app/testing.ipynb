{
 "cells": [
  {
   "cell_type": "code",
   "execution_count": null,
   "metadata": {},
   "outputs": [],
   "source": [
    "from utils.config import get_oltp_creds\n",
    "from utils.db_interface import DBConnection\n",
    "import pandas as pd"
   ]
  },
  {
   "cell_type": "code",
   "execution_count": null,
   "metadata": {},
   "outputs": [],
   "source": [
    "with DBConnection(get_oltp_creds()).managed_cursor() as curr:\n",
    "    curr.execute(\"SELECT * FROM tweet;\")\n",
    "    data = curr.fetchall()\n",
    "    cols = [i[0] for i in curr.description]\n",
    "df = pd.DataFrame(data, columns=cols)\n",
    "df = df.set_index(df.id).drop(columns=['id'], axis=1)\n",
    "df"
   ]
  },
  {
   "cell_type": "code",
   "execution_count": null,
   "metadata": {},
   "outputs": [],
   "source": [
    "with DBConnection(get_oltp_creds()).managed_cursor() as curr:\n",
    "    curr.execute(\"SELECT * FROM stock_price;\")\n",
    "    data = curr.fetchall()\n",
    "    cols = [i[0] for i in curr.description]\n",
    "df = pd.DataFrame(data, columns=cols)\n",
    "df = df.set_index(df.timestamp).drop(columns=['timestamp'], axis=1)\n",
    "df"
   ]
  },
  {
   "cell_type": "code",
   "execution_count": null,
   "metadata": {},
   "outputs": [],
   "source": []
  }
 ],
 "metadata": {
  "interpreter": {
   "hash": "2a56830cdcb1e2f1a400246e0f7d7009ca09e3f920c45b73677812fc27120e57"
  },
  "kernelspec": {
   "display_name": "Python 3.9.7 ('venv': venv)",
   "language": "python",
   "name": "python3"
  },
  "language_info": {
   "codemirror_mode": {
    "name": "ipython",
    "version": 3
   },
   "file_extension": ".py",
   "mimetype": "text/x-python",
   "name": "python",
   "nbconvert_exporter": "python",
   "pygments_lexer": "ipython3",
   "version": "3.9.7"
  },
  "orig_nbformat": 4
 },
 "nbformat": 4,
 "nbformat_minor": 2
}
