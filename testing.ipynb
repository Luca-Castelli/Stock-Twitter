{
 "cells": [
  {
   "cell_type": "code",
   "execution_count": 38,
   "metadata": {},
   "outputs": [],
   "source": [
    "import psycopg2\n",
    "import boto3\n",
    "import pandas as pd\n",
    "import yfinance as yf\n",
    "import psycopg2.extras as extras"
   ]
  },
  {
   "cell_type": "code",
   "execution_count": 39,
   "metadata": {},
   "outputs": [],
   "source": [
    "def connect_to_db() -> object:\n",
    "    \"\"\"\n",
    "    Fetch DB username and password from AWS SSM and connect to RDS database.\n",
    "    \"\"\"\n",
    "    aws_client = boto3.client(\"ssm\")\n",
    "\n",
    "    parameters = aws_client.get_parameters(\n",
    "        Names=[\n",
    "            \"stock_twitter_db_user\",\n",
    "            \"stock_twitter_db_password\",\n",
    "        ],\n",
    "        WithDecryption=True,\n",
    "    )\n",
    "\n",
    "    credentials = {}\n",
    "    for parameter in parameters[\"Parameters\"]:\n",
    "        credentials[parameter[\"Name\"]] = parameter[\"Value\"]\n",
    "\n",
    "    db_host = \"stock-twitter-db.cdx9enjjuwaj.us-east-1.rds.amazonaws.com\"\n",
    "    db_name = \"postgres\"\n",
    "    db_port = \"5432\"\n",
    "    db_user = credentials[\"stock_twitter_db_user\"]\n",
    "    db_pass = credentials[\"stock_twitter_db_password\"]\n",
    "    conn = psycopg2.connect(\n",
    "        host=db_host, database=db_name, user=db_user, password=db_pass, port=db_port\n",
    "    )\n",
    "\n",
    "    return conn"
   ]
  },
  {
   "cell_type": "code",
   "execution_count": 40,
   "metadata": {},
   "outputs": [],
   "source": [
    "conn = connect_to_db()"
   ]
  },
  {
   "cell_type": "code",
   "execution_count": 7,
   "metadata": {},
   "outputs": [
    {
     "name": "stderr",
     "output_type": "stream",
     "text": [
      "c:\\Users\\Luca\\Documents\\Coding\\Shopify-Project\\venv\\lib\\site-packages\\pandas\\io\\sql.py:761: UserWarning: pandas only support SQLAlchemy connectable(engine/connection) ordatabase string URI or sqlite3 DBAPI2 connectionother DBAPI2 objects are not tested, please consider using SQLAlchemy\n",
      "  warnings.warn(\n"
     ]
    },
    {
     "data": {
      "text/html": [
       "<div>\n",
       "<style scoped>\n",
       "    .dataframe tbody tr th:only-of-type {\n",
       "        vertical-align: middle;\n",
       "    }\n",
       "\n",
       "    .dataframe tbody tr th {\n",
       "        vertical-align: top;\n",
       "    }\n",
       "\n",
       "    .dataframe thead th {\n",
       "        text-align: right;\n",
       "    }\n",
       "</style>\n",
       "<table border=\"1\" class=\"dataframe\">\n",
       "  <thead>\n",
       "    <tr style=\"text-align: right;\">\n",
       "      <th></th>\n",
       "      <th>ticker</th>\n",
       "      <th>name</th>\n",
       "    </tr>\n",
       "  </thead>\n",
       "  <tbody>\n",
       "    <tr>\n",
       "      <th>0</th>\n",
       "      <td>URA</td>\n",
       "      <td>Uranium ETF</td>\n",
       "    </tr>\n",
       "  </tbody>\n",
       "</table>\n",
       "</div>"
      ],
      "text/plain": [
       "  ticker         name\n",
       "0    URA  Uranium ETF"
      ]
     },
     "execution_count": 7,
     "metadata": {},
     "output_type": "execute_result"
    }
   ],
   "source": [
    "pd.read_sql(\"SELECT * FROM stock\", con=conn)"
   ]
  },
  {
   "cell_type": "code",
   "execution_count": 42,
   "metadata": {},
   "outputs": [
    {
     "name": "stderr",
     "output_type": "stream",
     "text": [
      "c:\\Users\\Luca\\Documents\\Coding\\Shopify-Project\\venv\\lib\\site-packages\\pandas\\io\\sql.py:761: UserWarning: pandas only support SQLAlchemy connectable(engine/connection) ordatabase string URI or sqlite3 DBAPI2 connectionother DBAPI2 objects are not tested, please consider using SQLAlchemy\n",
      "  warnings.warn(\n"
     ]
    },
    {
     "data": {
      "text/html": [
       "<div>\n",
       "<style scoped>\n",
       "    .dataframe tbody tr th:only-of-type {\n",
       "        vertical-align: middle;\n",
       "    }\n",
       "\n",
       "    .dataframe tbody tr th {\n",
       "        vertical-align: top;\n",
       "    }\n",
       "\n",
       "    .dataframe thead th {\n",
       "        text-align: right;\n",
       "    }\n",
       "</style>\n",
       "<table border=\"1\" class=\"dataframe\">\n",
       "  <thead>\n",
       "    <tr style=\"text-align: right;\">\n",
       "      <th></th>\n",
       "      <th>id</th>\n",
       "      <th>twitter_id</th>\n",
       "      <th>username</th>\n",
       "      <th>text</th>\n",
       "      <th>created_at</th>\n",
       "      <th>sentiment</th>\n",
       "    </tr>\n",
       "  </thead>\n",
       "  <tbody>\n",
       "    <tr>\n",
       "      <th>0</th>\n",
       "      <td>1</td>\n",
       "      <td>1532787377906896901</td>\n",
       "      <td>LeclercT40</td>\n",
       "      <td>@PetrNovikov12 @DeepFakeFuori @Osinttechnical ...</td>\n",
       "      <td>2022-06-03</td>\n",
       "      <td>neutral</td>\n",
       "    </tr>\n",
       "    <tr>\n",
       "      <th>1</th>\n",
       "      <td>2</td>\n",
       "      <td>1532787214123294725</td>\n",
       "      <td>TNT</td>\n",
       "      <td>RT @Vishal_alt: @zerohedge US itself buys Russ...</td>\n",
       "      <td>2022-06-03</td>\n",
       "      <td>neutral</td>\n",
       "    </tr>\n",
       "    <tr>\n",
       "      <th>2</th>\n",
       "      <td>3</td>\n",
       "      <td>1532787137388728322</td>\n",
       "      <td>📐triANGLE Investor</td>\n",
       "      <td>@quakes99 how are we standing with #uranium sp...</td>\n",
       "      <td>2022-06-03</td>\n",
       "      <td>neutral</td>\n",
       "    </tr>\n",
       "    <tr>\n",
       "      <th>3</th>\n",
       "      <td>4</td>\n",
       "      <td>1532786888825655299</td>\n",
       "      <td>Jane Busby</td>\n",
       "      <td>@relllattable @astro1095 @AlvaroSilva1906 i me...</td>\n",
       "      <td>2022-06-03</td>\n",
       "      <td>negative</td>\n",
       "    </tr>\n",
       "    <tr>\n",
       "      <th>4</th>\n",
       "      <td>5</td>\n",
       "      <td>1532786819909156866</td>\n",
       "      <td>Itallstartshere</td>\n",
       "      <td>United States is funding Russia’s war by buyin...</td>\n",
       "      <td>2022-06-03</td>\n",
       "      <td>neutral</td>\n",
       "    </tr>\n",
       "    <tr>\n",
       "      <th>...</th>\n",
       "      <td>...</td>\n",
       "      <td>...</td>\n",
       "      <td>...</td>\n",
       "      <td>...</td>\n",
       "      <td>...</td>\n",
       "      <td>...</td>\n",
       "    </tr>\n",
       "    <tr>\n",
       "      <th>2395</th>\n",
       "      <td>2396</td>\n",
       "      <td>1532496704196562949</td>\n",
       "      <td>Ryan Roloff</td>\n",
       "      <td>RT @Antiwarcom: Former IAEA Inspector Wrongly ...</td>\n",
       "      <td>2022-06-02</td>\n",
       "      <td>negative</td>\n",
       "    </tr>\n",
       "    <tr>\n",
       "      <th>2396</th>\n",
       "      <td>2397</td>\n",
       "      <td>1532496499799883776</td>\n",
       "      <td>Ironside Capital</td>\n",
       "      <td>RT @KoporeMetals: We are pleased to provide a ...</td>\n",
       "      <td>2022-06-02</td>\n",
       "      <td>positive</td>\n",
       "    </tr>\n",
       "    <tr>\n",
       "      <th>2397</th>\n",
       "      <td>2398</td>\n",
       "      <td>1532496443784966146</td>\n",
       "      <td>Ironside Capital</td>\n",
       "      <td>RT @KoporeMetals: Kopore Metals has posted an ...</td>\n",
       "      <td>2022-06-02</td>\n",
       "      <td>neutral</td>\n",
       "    </tr>\n",
       "    <tr>\n",
       "      <th>2398</th>\n",
       "      <td>2399</td>\n",
       "      <td>1532496399610560512</td>\n",
       "      <td>▫▫▭▭▯amano▯▱▱（低浮上）</td>\n",
       "      <td>RT @MayRatio: Today is my birthday\\n\\nMy best ...</td>\n",
       "      <td>2022-06-02</td>\n",
       "      <td>positive</td>\n",
       "    </tr>\n",
       "    <tr>\n",
       "      <th>2399</th>\n",
       "      <td>2400</td>\n",
       "      <td>1532496315602837504</td>\n",
       "      <td>pixie</td>\n",
       "      <td>RT @deanhepburn: Remember John Howard selling ...</td>\n",
       "      <td>2022-06-02</td>\n",
       "      <td>neutral</td>\n",
       "    </tr>\n",
       "  </tbody>\n",
       "</table>\n",
       "<p>2400 rows × 6 columns</p>\n",
       "</div>"
      ],
      "text/plain": [
       "        id           twitter_id            username  \\\n",
       "0        1  1532787377906896901          LeclercT40   \n",
       "1        2  1532787214123294725                 TNT   \n",
       "2        3  1532787137388728322  📐triANGLE Investor   \n",
       "3        4  1532786888825655299          Jane Busby   \n",
       "4        5  1532786819909156866     Itallstartshere   \n",
       "...    ...                  ...                 ...   \n",
       "2395  2396  1532496704196562949         Ryan Roloff   \n",
       "2396  2397  1532496499799883776    Ironside Capital   \n",
       "2397  2398  1532496443784966146    Ironside Capital   \n",
       "2398  2399  1532496399610560512  ▫▫▭▭▯amano▯▱▱（低浮上）   \n",
       "2399  2400  1532496315602837504               pixie   \n",
       "\n",
       "                                                   text created_at sentiment  \n",
       "0     @PetrNovikov12 @DeepFakeFuori @Osinttechnical ... 2022-06-03   neutral  \n",
       "1     RT @Vishal_alt: @zerohedge US itself buys Russ... 2022-06-03   neutral  \n",
       "2     @quakes99 how are we standing with #uranium sp... 2022-06-03   neutral  \n",
       "3     @relllattable @astro1095 @AlvaroSilva1906 i me... 2022-06-03  negative  \n",
       "4     United States is funding Russia’s war by buyin... 2022-06-03   neutral  \n",
       "...                                                 ...        ...       ...  \n",
       "2395  RT @Antiwarcom: Former IAEA Inspector Wrongly ... 2022-06-02  negative  \n",
       "2396  RT @KoporeMetals: We are pleased to provide a ... 2022-06-02  positive  \n",
       "2397  RT @KoporeMetals: Kopore Metals has posted an ... 2022-06-02   neutral  \n",
       "2398  RT @MayRatio: Today is my birthday\\n\\nMy best ... 2022-06-02  positive  \n",
       "2399  RT @deanhepburn: Remember John Howard selling ... 2022-06-02   neutral  \n",
       "\n",
       "[2400 rows x 6 columns]"
      ]
     },
     "execution_count": 42,
     "metadata": {},
     "output_type": "execute_result"
    }
   ],
   "source": [
    "pd.read_sql(\"SELECT * FROM tweet\", con=conn)"
   ]
  },
  {
   "cell_type": "code",
   "execution_count": 16,
   "metadata": {},
   "outputs": [
    {
     "data": {
      "text/plain": [
       "[{'twitter_id': 1532674306383159298,\n",
       "  'username': 'Luciano Pestarino',\n",
       "  'text': 'RT @giginator_: #Uranium names ripped overnight in Nth America\\n$CCJ +7%\\n$DNN +5%\\n$URG +14%\\n$UUUU +10%\\nCantor Fitz reckons they picked the b…',\n",
       "  'created_at': '20220603-104325',\n",
       "  'sentiment': 'neutral'},\n",
       " {'twitter_id': 1532674252956123136,\n",
       "  'username': 'ArabiskaPartiet',\n",
       "  'text': '\"It’s not just that the 4 billion tons of uranium in seawater now would fuel a thousand 1000-MW nuclear power plant… https://t.co/WO4uvlNwy8',\n",
       "  'created_at': '20220603-104312',\n",
       "  'sentiment': 'neutral'}]"
      ]
     },
     "execution_count": 16,
     "metadata": {},
     "output_type": "execute_result"
    }
   ],
   "source": [
    "tweets = [{'twitter_id': 1532674306383159298, 'username': 'Luciano Pestarino', 'text': 'RT @giginator_: #Uranium names ripped overnight in Nth America\\n$CCJ +7%\\n$DNN +5%\\n$URG +14%\\n$UUUU +10%\\nCantor Fitz reckons they picked the b…', 'created_at': '20220603-104325', 'sentiment': 'neutral'},{'twitter_id': 1532674252956123136, 'username': 'ArabiskaPartiet', 'text': '\"It’s not just that the 4 billion tons of uranium in seawater now would fuel a thousand 1000-MW nuclear power plant… https://t.co/WO4uvlNwy8', 'created_at': '20220603-104312', 'sentiment': 'neutral'}]\n",
    "tweets"
   ]
  },
  {
   "cell_type": "code",
   "execution_count": 23,
   "metadata": {},
   "outputs": [
    {
     "name": "stdout",
     "output_type": "stream",
     "text": [
      "(1532674306383159298, 'Luciano Pestarino', 'RT @giginator_: #Uranium names ripped overnight in Nth America\\n$CCJ +7%\\n$DNN +5%\\n$URG +14%\\n$UUUU +10%\\nCantor Fitz reckons they picked the b…', '20220603-104325', 'neutral')\n",
      "twitter_id,username,text,created_at,sentiment\n",
      "(1532674252956123136, 'ArabiskaPartiet', '\"It’s not just that the 4 billion tons of uranium in seawater now would fuel a thousand 1000-MW nuclear power plant… https://t.co/WO4uvlNwy8', '20220603-104312', 'neutral')\n",
      "twitter_id,username,text,created_at,sentiment\n"
     ]
    }
   ],
   "source": [
    "for i in tweets:\n",
    "    print(tuple(i.values()))\n",
    "    print(\",\".join(i.keys()))"
   ]
  },
  {
   "cell_type": "code",
   "execution_count": 36,
   "metadata": {},
   "outputs": [],
   "source": [
    "from datetime import datetime, timedelta\n"
   ]
  },
  {
   "cell_type": "code",
   "execution_count": 37,
   "metadata": {},
   "outputs": [
    {
     "data": {
      "text/plain": [
       "'2022-05-27'"
      ]
     },
     "execution_count": 37,
     "metadata": {},
     "output_type": "execute_result"
    }
   ],
   "source": [
    "(datetime.now()-timedelta(days=7)).strftime(\"%Y-%m-%d\")"
   ]
  },
  {
   "cell_type": "code",
   "execution_count": 25,
   "metadata": {},
   "outputs": [],
   "source": [
    "conn.close()"
   ]
  },
  {
   "cell_type": "code",
   "execution_count": null,
   "metadata": {},
   "outputs": [],
   "source": []
  }
 ],
 "metadata": {
  "interpreter": {
   "hash": "48df0faf8b8f76283d2bc04e2a3ef90ab9fbdae55c549d9e6469ea36c0b215b6"
  },
  "kernelspec": {
   "display_name": "Python 3.9.7 ('venv': venv)",
   "language": "python",
   "name": "python3"
  },
  "language_info": {
   "codemirror_mode": {
    "name": "ipython",
    "version": 3
   },
   "file_extension": ".py",
   "mimetype": "text/x-python",
   "name": "python",
   "nbconvert_exporter": "python",
   "pygments_lexer": "ipython3",
   "version": "3.9.7"
  },
  "orig_nbformat": 4
 },
 "nbformat": 4,
 "nbformat_minor": 2
}
